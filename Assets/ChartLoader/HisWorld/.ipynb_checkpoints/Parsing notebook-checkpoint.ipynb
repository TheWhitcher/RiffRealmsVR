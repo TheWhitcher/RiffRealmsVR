{
 "cells": [
  {
   "cell_type": "code",
   "execution_count": 8,
   "id": "5faad364-d01f-4aab-8d87-70f12a138119",
   "metadata": {},
   "outputs": [],
   "source": [
    "import chparse"
   ]
  },
  {
   "cell_type": "code",
   "execution_count": 9,
   "id": "1a2c3702-6b15-417a-a6ec-ba7f3d3e08ac",
   "metadata": {},
   "outputs": [],
   "source": [
    "with open('notes.chart') as chartfile:\n",
    "...     chart = chparse.load(chartfile)\n",
    "#chart.instruments[chparse.EXPERT][chparse.GUITAR][0]"
   ]
  },
  {
   "cell_type": "code",
   "execution_count": 10,
   "id": "c949f308-faf8-423f-899c-9d6a3402ba76",
   "metadata": {},
   "outputs": [
    {
     "name": "stdout",
     "output_type": "stream",
     "text": [
      "ha\n"
     ]
    }
   ],
   "source": [
    "print(\"ha\")"
   ]
  },
  {
   "cell_type": "code",
   "execution_count": 13,
   "id": "83f95cfb-0332-4394-a5a2-8022d89b8417",
   "metadata": {},
   "outputs": [
    {
     "data": {
      "text/plain": [
       "<_io.TextIOWrapper name='notes.chart' mode='r' encoding='cp1252'>"
      ]
     },
     "execution_count": 13,
     "metadata": {},
     "output_type": "execute_result"
    }
   ],
   "source": [
    "print(str(chartfile))"
   ]
  }
 ],
 "metadata": {
  "kernelspec": {
   "display_name": "Python 3 (ipykernel)",
   "language": "python",
   "name": "python3"
  },
  "language_info": {
   "codemirror_mode": {
    "name": "ipython",
    "version": 3
   },
   "file_extension": ".py",
   "mimetype": "text/x-python",
   "name": "python",
   "nbconvert_exporter": "python",
   "pygments_lexer": "ipython3",
   "version": "3.11.5"
  }
 },
 "nbformat": 4,
 "nbformat_minor": 5
}
